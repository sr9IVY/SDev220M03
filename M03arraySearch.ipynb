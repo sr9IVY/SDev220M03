{
 "cells": [
  {
   "cell_type": "code",
   "execution_count": 1,
   "metadata": {},
   "outputs": [
    {
     "name": "stdout",
     "output_type": "stream",
     "text": [
      "Student: Sidart Rav\n",
      "File name:arraySearch.ipnyb\n",
      "This app allows a user to input an ascending array of integers and to search for the\n",
      "index position of one of the numbers in the array.\n",
      "The first index position is a zero. If the number is not in the array the index position is -1.\n",
      "The lowest index position is given if the searched number is repeated for one or more times.\n"
     ]
    }
   ],
   "source": [
    "print(\"Student: Sidart Rav\")\n",
    "print(\"File name:arraySearch.ipnyb\")\n",
    "print(\"This app allows a user to input an ascending array of integers and to search for the\")\n",
    "print(\"index position of one of the numbers in the array.\")\n",
    "print(\"The first index position is a zero. If the number is not in the array the index position is -1.\")\n",
    "print(\"The lowest index position is given if the searched number is repeated for one or more times.\")\n",
    "       "
   ]
  },
  {
   "cell_type": "code",
   "execution_count": 2,
   "metadata": {},
   "outputs": [],
   "source": [
    "class Search:\n",
    "    def __init__(self, array):\n",
    "        self.array = sorted(array)\n",
    "        \n",
    "    def binarySearch(self, k):\n",
    "        low, high = 0, len(self.array) - 1\n",
    "        index = -1\n",
    "        \n",
    "        while low <= high:\n",
    "            mid = (low + high) // 2\n",
    "            if self.array[mid] == k:\n",
    "                index = mid\n",
    "                high = mid - 1  \n",
    "            elif self.array[mid] < k:\n",
    "                low = mid + 1\n",
    "            else:\n",
    "                high = mid - 1\n",
    "\n",
    "        return index\n",
    "\n",
    "# Request User Input\n",
    "userArray = list(map(int, input(\"Enter sorted array separated by space: \").split()))\n",
    "k = int(input(\"Check index position for the number: \"))\n",
    "\n",
    "\n",
    "searchObj = Search(userArray)\n"
   ]
  },
  {
   "cell_type": "code",
   "execution_count": 3,
   "metadata": {},
   "outputs": [
    {
     "name": "stdout",
     "output_type": "stream",
     "text": [
      "Array: [1, 2, 3, 4, 5, 6, 7, 8, 8, 8, 9, 10, 11]\n",
      "9 is at index 10\n"
     ]
    }
   ],
   "source": [
    "# Use lambda function for formatting\n",
    "output = lambda index: f\"{k} is at index {index}\" if index != -1 else f\"-1 {k} is not found in the array.\"\n",
    "\n",
    "# Output the result\n",
    "resultIndex = searchObj.binarySearch(k)\n",
    "print(\"Array:\", userArray)\n",
    "print(output(resultIndex))\n"
   ]
  }
 ],
 "metadata": {
  "kernelspec": {
   "display_name": "Python 3",
   "language": "python",
   "name": "python3"
  },
  "language_info": {
   "codemirror_mode": {
    "name": "ipython",
    "version": 3
   },
   "file_extension": ".py",
   "mimetype": "text/x-python",
   "name": "python",
   "nbconvert_exporter": "python",
   "pygments_lexer": "ipython3",
   "version": "3.13.2"
  }
 },
 "nbformat": 4,
 "nbformat_minor": 2
}
