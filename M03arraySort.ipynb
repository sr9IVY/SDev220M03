{
 "cells": [
  {
   "cell_type": "code",
   "execution_count": 1,
   "metadata": {},
   "outputs": [
    {
     "name": "stdout",
     "output_type": "stream",
     "text": [
      "Student: Sidart Rav\n",
      "File Name: arraySort.ipnyb\n",
      "This app  sorts the variables in an array using a class and a function.\n",
      "\n"
     ]
    }
   ],
   "source": [
    "print(\"Student: Sidart Rav\")\n",
    "print(\"File Name: arraySort.ipnyb\")\n",
    "print(\"This app  sorts the variables in an array using a class and a function.\")\n",
    "\n",
    "print(\"\")\n"
   ]
  },
  {
   "cell_type": "code",
   "execution_count": 2,
   "metadata": {},
   "outputs": [],
   "source": [
    "class Solution:\n",
    "    def __init__(self, arr):\n",
    "        self.arr = arr\n",
    "\n",
    "    def arrange_sort(self):\n",
    "        n = len(self.arr)\n",
    "        for i in range(n):\n",
    "            for j in range(0, n - i - 1):\n",
    "                if self.arr[j] > self.arr[j + 1]:\n",
    "                    self.arr[j], self.arr[j + 1] = self.arr[j + 1], self.arr[j]\n",
    "\n",
    "    def sorted_array(self):\n",
    "        return self.arr"
   ]
  },
  {
   "cell_type": "code",
   "execution_count": null,
   "metadata": {},
   "outputs": [],
   "source": [
    "# Array to be sorted:\n",
    "arr = [0, 1, 1, 0, 1, 2, 1, 2, 0, 0, 0, 1]\n",
    "sorter = Solution(arr)\n",
    "sorter.arrange_sort()\n",
    "print(\"Original array\", arr)\n",
    "print(\"Sorted array\", sorter.sorted_array())"
   ]
  }
 ],
 "metadata": {
  "kernelspec": {
   "display_name": "Python 3",
   "language": "python",
   "name": "python3"
  },
  "language_info": {
   "codemirror_mode": {
    "name": "ipython",
    "version": 3
   },
   "file_extension": ".py",
   "mimetype": "text/x-python",
   "name": "python",
   "nbconvert_exporter": "python",
   "pygments_lexer": "ipython3",
   "version": "3.13.2"
  }
 },
 "nbformat": 4,
 "nbformat_minor": 2
}
