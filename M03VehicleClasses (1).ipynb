{
 "cells": [
  {
   "cell_type": "code",
   "execution_count": 1,
   "id": "c210b02a-a529-44fc-86d9-e768695974cb",
   "metadata": {},
   "outputs": [
    {
     "name": "stdout",
     "output_type": "stream",
     "text": [
      "Student: Sidart Rav\n",
      "File name: M03VehicleClasses.py\n",
      "This app allows for he input of different types of vehicle and the atributes that are relaed to these,\n",
      "The program allows a user to input data for onve vehicle.\n"
     ]
    }
   ],
   "source": [
    "#\"Student: Sidart Rav\"\n",
    "#\"File name: M03VehicleClasses.py\"\n",
    "print(\"This app allows for he input of different types of vehicle and the atributes that are relaed to these,\")\n",
    "print(\"The program allows a user to input data for one vehicle.\")"
   ]
  },
  {
   "cell_type": "code",
   "execution_count": 2,
   "id": "b990a1d9-5aaf-4d7a-a9e0-833bb95fe64a",
   "metadata": {},
   "outputs": [
    {
     "name": "stdin",
     "output_type": "stream",
     "text": [
      "Vehicle type:  car\n",
      "Year:  2022\n",
      "Make:  Toyota\n",
      "Model:  Corolla\n",
      "Number of doors 2 or 4:  4\n",
      "Type of roof (plain or sun roof):  sun roof\n"
     ]
    }
   ],
   "source": [
    "\n"
   ]
  },
  {
   "cell_type": "code",
   "execution_count": null,
   "id": "537c5dfe-97c5-46f8-a420-03f20f29c42a",
   "metadata": {},
   "outputs": [],
   "source": []
  }
 ],
 "metadata": {
  "kernelspec": {
   "display_name": "Python 3 (ipykernel)",
   "language": "python",
   "name": "python3"
  },
  "language_info": {
   "codemirror_mode": {
    "name": "ipython",
    "version": 3
   },
   "file_extension": ".py",
   "mimetype": "text/x-python",
   "name": "python",
   "nbconvert_exporter": "python",
   "pygments_lexer": "ipython3",
   "version": "3.13.2"
  }
 },
 "nbformat": 4,
 "nbformat_minor": 5
}
