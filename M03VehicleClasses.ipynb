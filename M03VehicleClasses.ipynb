{
 "cells": [
  {
   "cell_type": "code",
   "execution_count": 1,
   "id": "c210b02a-a529-44fc-86d9-e768695974cb",
   "metadata": {},
   "outputs": [
    {
     "name": "stdout",
     "output_type": "stream",
     "text": [
      "Student: Sidart Rav\n",
      "File name: M03VehicleClasses.py\n",
      "This app allows for he input of different types of vehicle and the atributes that are relaed to these,\n",
      "The program allows a user to input data for onve vehicle.\n"
     ]
    }
   ],
   "source": [
    "print(\"Student: Sidart Rav\")\n",
    "print(\"File name: M03VehicleClasses.py\")\n",
    "print(\"This app allows for he input of different types of vehicle and the atributes that are relaed to these,\")\n",
    "print(\"The program allows a user to input data for one vehicle.\")"
   ]
  },
  {
   "cell_type": "code",
   "execution_count": 2,
   "id": "b990a1d9-5aaf-4d7a-a9e0-833bb95fe64a",
   "metadata": {},
   "outputs": [
    {
     "name": "stdin",
     "output_type": "stream",
     "text": [
      "Vehicle type:  car\n",
      "Year:  2022\n",
      "Make:  Toyota\n",
      "Model:  Corolla\n",
      "Number of doors 2 or 4:  4\n",
      "Type of roof (plain or sun roof):  sun roof\n"
     ]
    }
   ],
   "source": [
    "class specialCars:\n",
    "    def __init__(self,car_type=\"Vehicles\"):\n",
    "        self.car_type = car_type\n",
    "\n",
    "class car(specialCars):\n",
    "    def __init__(self, car_make, topic, year, car_doors, car_roof):\n",
    "        super().__init__(car_type=\"car\")\n",
    "        self.car_make = car_make\n",
    "        self.car_type = car_type # Vehicle type is car\n",
    "        self.year = year\n",
    "        self.car_model = car_model\n",
    "        self.car_doors = car_doors\n",
    "        self.car_roof = car_roof\n",
    "\n",
    "    def display_details(self):\n",
    "        print(\"\\nThe Vehicle Details Entered Were:\")\n",
    "        print(f\"Vehicle type: {self.car_type}\")\n",
    "        print(f\"Year: {self.year}\")\n",
    "        print(f\"Make: {self.car_make}\")     \n",
    "        print(f\"Model: {self.car_model}\")\n",
    "        print(f\"Number of doors: {self.car_doors}\")\n",
    "        print(f\"Type of Roof: {self.car_roof}\")\n",
    "\n",
    "   #Accept user input for car details\n",
    "\n",
    "car_type = input(\"Vehicle type: \")\n",
    "year = input(\"Year: \")\n",
    "car_make = input(\"Make: \")\n",
    "car_model = input(\"Model: \")\n",
    "car_doors = input(\"Number of doors 2 or 4: \")\n",
    "car_roof = input(\"Type of roof (plain or sun roof): \")\n",
    "\n",
    "  #Create a car instance with user-provided details\n",
    "user_car = car(car_make, car_type, year, car_doors, car_roof)\n"
   ]
  },
  {
   "cell_type": "code",
   "execution_count": null,
   "id": "537c5dfe-97c5-46f8-a420-03f20f29c42a",
   "metadata": {},
   "outputs": [],
   "source": []
  }
 ],
 "metadata": {
  "kernelspec": {
   "display_name": "Python 3 (ipykernel)",
   "language": "python",
   "name": "python3"
  },
  "language_info": {
   "codemirror_mode": {
    "name": "ipython",
    "version": 3
   },
   "file_extension": ".py",
   "mimetype": "text/x-python",
   "name": "python",
   "nbconvert_exporter": "python",
   "pygments_lexer": "ipython3",
   "version": "3.13.2"
  }
 },
 "nbformat": 4,
 "nbformat_minor": 5
}
