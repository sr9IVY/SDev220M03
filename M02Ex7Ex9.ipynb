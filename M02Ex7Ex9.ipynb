{
 "cells": [
  {
   "cell_type": "code",
   "execution_count": 19,
   "id": "a691928b-fd9d-49c5-8d6b-e90885d440b4",
   "metadata": {},
   "outputs": [
    {
     "name": "stdout",
     "output_type": "stream",
     "text": [
      "Student: Sidart Rav\n"
     ]
    }
   ],
   "source": [
    "print(\"Student: Sidart Rav\")"
   ]
  },
  {
   "cell_type": "code",
   "execution_count": 20,
   "id": "7f74aaed-29e4-4842-be59-cda5df8b60b3",
   "metadata": {},
   "outputs": [
    {
     "name": "stdout",
     "output_type": "stream",
     "text": [
      "File name: M02Ex7Ex9.ipnyb\n"
     ]
    }
   ],
   "source": [
    "print(\"File name: M02Ex7Ex9.ipnyb\")"
   ]
  },
  {
   "cell_type": "code",
   "execution_count": 21,
   "id": "b2b507c6-3fd5-4ae4-b7c4-abebc22bf8bf",
   "metadata": {},
   "outputs": [],
   "source": [
    "things = [\"mozzarella\", \"cinderella\", \"salmonella\"] # 7-4"
   ]
  },
  {
   "cell_type": "code",
   "execution_count": 22,
   "id": "53b9cd40-853d-4658-982f-3e8d37e4b736",
   "metadata": {},
   "outputs": [],
   "source": [
    "things = [word.capitalize() for word in things] # 7-5"
   ]
  },
  {
   "cell_type": "code",
   "execution_count": 23,
   "id": "e82e0258-bd51-4acf-8138-393212f69171",
   "metadata": {},
   "outputs": [
    {
     "name": "stdout",
     "output_type": "stream",
     "text": [
      "['Mozzarella', 'Cinderella', 'Salmonella']\n"
     ]
    }
   ],
   "source": [
    "print(things)"
   ]
  },
  {
   "cell_type": "code",
   "execution_count": 24,
   "id": "cc68ed26-c741-4408-af35-b90b2b3ed138",
   "metadata": {},
   "outputs": [
    {
     "name": "stdout",
     "output_type": "stream",
     "text": [
      "['MOZZARELLA', 'Cinderella', 'Salmonella']\n"
     ]
    }
   ],
   "source": [
    "things = ['Mozzarella', 'Cinderella', 'Salmonella']\n",
    "things[0] = things[0].upper() #7-6\n",
    "print(things)"
   ]
  },
  {
   "cell_type": "code",
   "execution_count": 25,
   "id": "564c43db-4ee3-46ed-acff-7e2d20e2cf11",
   "metadata": {},
   "outputs": [
    {
     "name": "stdout",
     "output_type": "stream",
     "text": [
      "['MOZZARELLA', 'Cinderella']\n"
     ]
    }
   ],
   "source": [
    "things = ['MOZZARELLA', 'Cinderella', 'Salmonella']\n",
    "del things[2] # 7-7\n",
    "print(things)\n"
   ]
  },
  {
   "cell_type": "code",
   "execution_count": 26,
   "id": "d83915c2-adee-4fd5-8a75-778c3d3cc8e1",
   "metadata": {},
   "outputs": [
    {
     "name": "stdout",
     "output_type": "stream",
     "text": [
      "['Harry', 'Ron', 'Hermione']\n"
     ]
    }
   ],
   "source": [
    "def good():                                   # 9-1\n",
    "    return ['Harry', 'Ron', 'Hermione']\n",
    "\n",
    "print(good())"
   ]
  },
  {
   "cell_type": "code",
   "execution_count": 27,
   "id": "39c35e3f-6588-43ab-8933-5602e5b08b5b",
   "metadata": {},
   "outputs": [
    {
     "name": "stdout",
     "output_type": "stream",
     "text": [
      "The third number is: 5\n"
     ]
    }
   ],
   "source": [
    "def get_odds():                               #9-2\n",
    "     for oddNum in range(1, 10, 2):\n",
    "        yield oddNum\n",
    "        \n",
    "i = 0\n",
    "for odd in get_odds():\n",
    "     i += 1\n",
    "     if i == 3:\n",
    "        print(\"The third number is:\", odd)  "
   ]
  }
 ],
 "metadata": {
  "kernelspec": {
   "display_name": "Python 3 (ipykernel)",
   "language": "python",
   "name": "python3"
  },
  "language_info": {
   "codemirror_mode": {
    "name": "ipython",
    "version": 3
   },
   "file_extension": ".py",
   "mimetype": "text/x-python",
   "name": "python",
   "nbconvert_exporter": "python",
   "pygments_lexer": "ipython3",
   "version": "3.13.2"
  }
 },
 "nbformat": 4,
 "nbformat_minor": 5
}
